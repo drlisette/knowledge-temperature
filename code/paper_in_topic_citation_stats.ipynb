{
 "cells": [
  {
   "cell_type": "markdown",
   "metadata": {},
   "source": [
    "# Paper in-topic citation stats"
   ]
  },
  {
   "cell_type": "code",
   "execution_count": 1,
   "metadata": {},
   "outputs": [],
   "source": [
    "import pandas as pd\n",
    "import numpy as np"
   ]
  },
  {
   "cell_type": "code",
   "execution_count": 2,
   "metadata": {},
   "outputs": [],
   "source": [
    "domain_id = 199411215"
   ]
  },
  {
   "cell_type": "code",
   "execution_count": 3,
   "metadata": {},
   "outputs": [
    {
     "name": "stdout",
     "output_type": "stream",
     "text": [
      "<class 'pandas.core.frame.DataFrame'>\n",
      "RangeIndex: 31800 entries, 0 to 31799\n",
      "Data columns (total 3 columns):\n",
      " #   Column        Non-Null Count  Dtype\n",
      "---  ------        --------------  -----\n",
      " 0   paper_id      31800 non-null  int64\n",
      " 1   year          31800 non-null  int64\n",
      " 2   citation_cnt  31800 non-null  int64\n",
      "dtypes: int64(3)\n",
      "memory usage: 745.4 KB\n"
     ]
    }
   ],
   "source": [
    "# read data\n",
    "df = pd.read_csv(str(domain_id)+'domain_reference.csv')\n",
    "df_paper = pd.read_csv(str(domain_id)+'domain_paper.csv')\n",
    "\n",
    "# count in-topic citation\n",
    "cite_cnt = df.groupby(['reference_id']).count()['paper_id']\n",
    "df_paper['citation_cnt'] = df_paper.apply(lambda x: cite_cnt[x[0]] if x[0] in  cite_cnt.index else 0, axis = 1)\n",
    "df_paper.info()"
   ]
  },
  {
   "cell_type": "code",
   "execution_count": 4,
   "metadata": {},
   "outputs": [],
   "source": [
    "# output stats\n",
    "df_paper.to_csv(str(domain_id)+'_paper_citation_stats.csv', index = False)"
   ]
  },
  {
   "cell_type": "code",
   "execution_count": null,
   "metadata": {},
   "outputs": [],
   "source": []
  }
 ],
 "metadata": {
  "kernelspec": {
   "display_name": "Python 3",
   "language": "python",
   "name": "python3"
  },
  "language_info": {
   "codemirror_mode": {
    "name": "ipython",
    "version": 3
   },
   "file_extension": ".py",
   "mimetype": "text/x-python",
   "name": "python",
   "nbconvert_exporter": "python",
   "pygments_lexer": "ipython3",
   "version": "3.6.2"
  }
 },
 "nbformat": 4,
 "nbformat_minor": 2
}
